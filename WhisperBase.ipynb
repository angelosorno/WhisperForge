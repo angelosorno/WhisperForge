{
 "cells": [
  {
   "cell_type": "code",
   "execution_count": null,
   "id": "935e7d27",
   "metadata": {},
   "outputs": [],
   "source": [
    "import whisper\n",
    "import subprocess\n",
    "import datetime\n",
    "from pathlib import Path\n"
   ]
  },
  {
   "cell_type": "markdown",
   "id": "055ae06c",
   "metadata": {},
   "source": [
    "Hiperparámetros"
   ]
  },
  {
   "cell_type": "code",
   "execution_count": null,
   "id": "abf81759",
   "metadata": {},
   "outputs": [],
   "source": [
    "LANG = \"es\"\n",
    "NORMALIZE_AUDIO = True\n",
    "TEMPERATURE = 0.0\n",
    "BEAM_SIZE = 8\n",
    "INITIAL_PROMPT = (\n",
    "    \"Transcripción fiel en español de un archivo de audio. \"\n",
    "    \"Usar ortografía y gramática correctas, con buena puntuación. \"\n",
    "    \"Contexto: discurso, conferencia o grabación personal. \"\n",
    "    \"Palabras clave: claridad, precisión, coherencia, fidelidad.\"\n",
    ")"
   ]
  },
  {
   "cell_type": "code",
   "execution_count": null,
   "id": "4587abed",
   "metadata": {},
   "outputs": [],
   "source": [
    "# --- Funciones auxiliares ---\n",
    "def toWav16k(inPath: Path, outPath: Path) -> Path:\n",
    "    cmd = [\n",
    "        \"ffmpeg\", \"-y\", \"-i\", str(inPath),\n",
    "        \"-vn\",\n",
    "        \"-ac\", \"1\",\n",
    "        \"-af\", \"aresample=resampler=soxr:precision=33\",\n",
    "        \"-ar\", \"16000\",\n",
    "        \"-c:a\", \"pcm_s16le\",\n",
    "        str(outPath)\n",
    "    ]\n",
    "    subprocess.run(cmd, check=True, stdout=subprocess.PIPE, stderr=subprocess.PIPE)\n",
    "    return outPath\n",
    "\n",
    "def prepareAudioForWhisper(srcPath: Path, enabled: bool = True) -> Path:\n",
    "    if not enabled:\n",
    "        return srcPath\n",
    "    target = srcPath.parent / \"input.16k.wav\"\n",
    "    return toWav16k(srcPath, target)\n",
    "\n",
    "def makeTimestamp() -> str:\n",
    "    return datetime.datetime.now().strftime(\"%Y%m%d-%H%M%S\")\n",
    "\n",
    "# --- Uso ---\n",
    "# Puedes cambiar \"base\" por \"large-v3\" o \"turbo\"\n",
    "model = whisper.load_model(\"base\")  \n",
    "\n",
    "audioPath = Path(\"./audio.mp3\")\n",
    "normalizedPath = prepareAudioForWhisper(audioPath, enabled=NORMALIZE_AUDIO)\n",
    "\n",
    "result = model.transcribe(\n",
    "    str(normalizedPath),\n",
    "    language=LANG,\n",
    "    task=\"transcribe\",\n",
    "    temperature=TEMPERATURE,\n",
    "    beam_size=BEAM_SIZE,\n",
    "    patience=1.0,\n",
    "    condition_on_previous_text=True,\n",
    "    initial_prompt=INITIAL_PROMPT if INITIAL_PROMPT.strip() else None,\n",
    "    fp16=False   # si CPU; en GPU puedes pasar True\n",
    ")\n",
    "\n",
    "text = result[\"text\"].strip()"
   ]
  },
  {
   "cell_type": "markdown",
   "id": "055d1ac7",
   "metadata": {},
   "source": [
    "Guardar en archivo"
   ]
  },
  {
   "cell_type": "code",
   "execution_count": null,
   "id": "4ba19081",
   "metadata": {},
   "outputs": [],
   "source": [
    "outFile = Path(f\"transcript-{makeTimestamp()}.txt\")\n",
    "outFile.write_text(text, encoding=\"utf-8\")\n",
    "print(f\"\\n✅ Transcripción guardada en: {outFile}\")\n",
    "\n",
    "print(\"📄 Texto transcrito:\\n\")\n",
    "print(text)"
   ]
  }
 ],
 "metadata": {
  "kernelspec": {
   "display_name": "env (3.12.4)",
   "language": "python",
   "name": "python3"
  },
  "language_info": {
   "codemirror_mode": {
    "name": "ipython",
    "version": 3
   },
   "file_extension": ".py",
   "mimetype": "text/x-python",
   "name": "python",
   "nbconvert_exporter": "python",
   "pygments_lexer": "ipython3",
   "version": "3.12.4"
  }
 },
 "nbformat": 4,
 "nbformat_minor": 5
}
