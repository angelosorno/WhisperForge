{
 "cells": [
  {
   "cell_type": "code",
   "execution_count": 1,
   "id": "935e7d27",
   "metadata": {},
   "outputs": [],
   "source": [
    "import whisper\n",
    "import subprocess\n",
    "import datetime\n",
    "from pathlib import Path\n"
   ]
  },
  {
   "cell_type": "markdown",
   "id": "055ae06c",
   "metadata": {},
   "source": [
    "Hiperparámetros"
   ]
  },
  {
   "cell_type": "code",
   "execution_count": 2,
   "id": "abf81759",
   "metadata": {},
   "outputs": [],
   "source": [
    "LANG = \"es\"\n",
    "NORMALIZE_AUDIO = True\n",
    "TEMPERATURE = 0.0\n",
    "BEAM_SIZE = 8\n",
    "INITIAL_PROMPT = (\n",
    "    \"Transcripción fiel en español de un archivo de audio. \"\n",
    "    \"Usar ortografía y gramática correctas, con buena puntuación. \"\n",
    "    \"Contexto: discurso, conferencia o grabación personal. \"\n",
    "    \"Palabras clave: claridad, precisión, coherencia, fidelidad.\"\n",
    ")"
   ]
  },
  {
   "cell_type": "code",
   "execution_count": null,
   "id": "4587abed",
   "metadata": {},
   "outputs": [
    {
     "name": "stdout",
     "output_type": "stream",
     "text": [
      "📄 Texto transcrito:\n",
      "\n",
      "Buenas ardemana María Luisa, hermana, mi pregunta está en efectos 431. En pasados de estudios bíblicos, usted nos decía de que cuando uno sentía algo en el corazón y lo reconocía del ante Dios, el señor entra a ayudarle a uno. Entonces, sabemos que para servirle al señor, tenemos que tener el corazón libre, pues, de topecado, de toa amargura. Y cuando uno hora, cuando uno le peal, señor, es sincero con el señor, se arrodilla, pero sigue como el mismo problema, acá dice el apóstol, en efectos 431. Quítese de vosotros toda amargura en ojo, ira, gritería y maledicencia y toda amalicia. Cuando uno ya ha aplicado todas estas cosas de pedirle al señor, de reconocer, de humillarse y como que es espíritu persiste, ¿qué más podemos hacer hermana? Bueno, pues uno dice que yo he reconoco y que me humillo y que le hablo el señor y le pido el señor. Es uno lo hace, pero es que uno tiene que esforzarse también para sacar eso del corazón. Hay que esforzarnos para no hacerlo. Cuando estemos tentados con la gritería, por ejemplo, está la gritería y la maledicencia, usted se da cuenta, dice, estoy procediendo mal, me estoy dejando a llevar de mi carne, me estoy dejando a llevar de mi este espíritu malo que hay en mí, pues no, yo no voy a permitir eso, me voy a calmar, voy a cerrar mi boca, me calmo, huyo, me escondo, me voy para otro lado, pero no le voy a dar rienda suelta a ese sentimiento en ese momento, porque entonces yo oré y le digo, señor, si es que yo tengo un temperamento fuerte y me da mucha ira, me da contienda y entonces comienzo mal decir, no, sí yo reconozco, pero en el momento que me llega la tentación, que es el momento que está ahí con la gritería y la maledicencia, entonces usted ya se deja llevar por eso, si usted se calma y se queda que haya y reconoce la señora, ayúdame, esto es un demonio, esto es mi carne de del señor libertad, yo no quiero esto, no quiero, y usted se cae ahí es donde Dios ve que usted verdaderamente está arrepentida, usted quiere cambiar en ese aspecto y cuando uno quiere o cuando uno se esfuerza por evitar y por no hacer esas cosas, entonces si yo tengo esa debilidad de estar ofendiendo a las personas, a la persona que esté cerca de mí, entonces yo procuro ya no volverlo a ser, digo, yo no lo voy a hacer, eso es malo, eso es pecado, es una debilidad que tengo, entonces yo ya me astengo de hacerles, no lo voy a hacer, siento el deseo de ofender, pero no lo hago porque yo quiero que cambiar y agradar a Dios, no quiero estar en paz, quiero sentirme tranquila, reposada, calmada, no quiero ofender al señor, entonces uno se esfuerza y Dios ve esa intención y Dios nos ayuda a cambiar, entonces nosotros porque el asunto es de boca, de boca reconocemos, pero si de corazón no reconocemos de corazón, pues entonces de nada sirve que ahí con palabras, sí, sí, señor, perdóname, señor, perdóname, que hierta al cosa, perdóname, que hier, y hoy despueso mañana volví a golo mismo, y el señor entonces ya no nos va a poner cuidado, ya no nos va a escuchar nuestra oración, y nosotros oramos y sentimos que todo es nulo, que Dios no me oye, no me escucha, porque es, porque no sale del corazón ese repentimiento, ese reconocimiento, y porque en el momento de la tentación, en el momento de la prueba, cuando está ahí, el pecado ahí la tenten en hacerme caer, entonces yo me dejo llevar y lo hago, pero si yo no me dejo llevar y digo no, le pongo un freno, ahí Dios nos va a ayudar.\n"
     ]
    }
   ],
   "source": [
    "# --- Funciones auxiliares ---\n",
    "def toWav16k(inPath: Path, outPath: Path) -> Path:\n",
    "    cmd = [\n",
    "        \"ffmpeg\", \"-y\", \"-i\", str(inPath),\n",
    "        \"-vn\",\n",
    "        \"-ac\", \"1\",\n",
    "        \"-af\", \"aresample=resampler=soxr:precision=33\",\n",
    "        \"-ar\", \"16000\",\n",
    "        \"-c:a\", \"pcm_s16le\",\n",
    "        str(outPath)\n",
    "    ]\n",
    "    subprocess.run(cmd, check=True, stdout=subprocess.PIPE, stderr=subprocess.PIPE)\n",
    "    return outPath\n",
    "\n",
    "def prepareAudioForWhisper(srcPath: Path, enabled: bool = True) -> Path:\n",
    "    if not enabled:\n",
    "        return srcPath\n",
    "    target = srcPath.parent / \"input.16k.wav\"\n",
    "    return toWav16k(srcPath, target)\n",
    "\n",
    "def makeTimestamp() -> str:\n",
    "    return datetime.datetime.now().strftime(\"%Y%m%d-%H%M%S\")\n",
    "\n",
    "# --- Uso ---\n",
    "# Puedes cambiar \"base\" por \"large-v3\" o \"turbo\"\n",
    "model = whisper.load_model(\"base\")  \n",
    "\n",
    "audioPath = Path(\"./audio.mp3\")\n",
    "normalizedPath = prepareAudioForWhisper(audioPath, enabled=NORMALIZE_AUDIO)\n",
    "\n",
    "result = model.transcribe(\n",
    "    str(normalizedPath),\n",
    "    language=LANG,\n",
    "    task=\"transcribe\",\n",
    "    temperature=TEMPERATURE,\n",
    "    beam_size=BEAM_SIZE,\n",
    "    patience=1.0,\n",
    "    condition_on_previous_text=True,\n",
    "    initial_prompt=INITIAL_PROMPT if INITIAL_PROMPT.strip() else None,\n",
    "    fp16=False   # si CPU; en GPU puedes pasar True\n",
    ")\n",
    "\n",
    "text = result[\"text\"].strip()"
   ]
  },
  {
   "cell_type": "markdown",
   "id": "055d1ac7",
   "metadata": {},
   "source": [
    "Guardar en archivo"
   ]
  },
  {
   "cell_type": "code",
   "execution_count": 6,
   "id": "4ba19081",
   "metadata": {},
   "outputs": [
    {
     "name": "stdout",
     "output_type": "stream",
     "text": [
      "\n",
      "✅ Transcripción guardada en: transcript-20250917-163811.txt\n",
      "📄 Texto transcrito:\n",
      "\n",
      "Buenas ardemana María Luisa, hermana, mi pregunta está en efectos 431. En pasados de estudios bíblicos, usted nos decía de que cuando uno sentía algo en el corazón y lo reconocía del ante Dios, el señor entra a ayudarle a uno. Entonces, sabemos que para servirle al señor, tenemos que tener el corazón libre, pues, de topecado, de toa amargura. Y cuando uno hora, cuando uno le peal, señor, es sincero con el señor, se arrodilla, pero sigue como el mismo problema, acá dice el apóstol, en efectos 431. Quítese de vosotros toda amargura en ojo, ira, gritería y maledicencia y toda amalicia. Cuando uno ya ha aplicado todas estas cosas de pedirle al señor, de reconocer, de humillarse y como que es espíritu persiste, ¿qué más podemos hacer hermana? Bueno, pues uno dice que yo he reconoco y que me humillo y que le hablo el señor y le pido el señor. Es uno lo hace, pero es que uno tiene que esforzarse también para sacar eso del corazón. Hay que esforzarnos para no hacerlo. Cuando estemos tentados con la gritería, por ejemplo, está la gritería y la maledicencia, usted se da cuenta, dice, estoy procediendo mal, me estoy dejando a llevar de mi carne, me estoy dejando a llevar de mi este espíritu malo que hay en mí, pues no, yo no voy a permitir eso, me voy a calmar, voy a cerrar mi boca, me calmo, huyo, me escondo, me voy para otro lado, pero no le voy a dar rienda suelta a ese sentimiento en ese momento, porque entonces yo oré y le digo, señor, si es que yo tengo un temperamento fuerte y me da mucha ira, me da contienda y entonces comienzo mal decir, no, sí yo reconozco, pero en el momento que me llega la tentación, que es el momento que está ahí con la gritería y la maledicencia, entonces usted ya se deja llevar por eso, si usted se calma y se queda que haya y reconoce la señora, ayúdame, esto es un demonio, esto es mi carne de del señor libertad, yo no quiero esto, no quiero, y usted se cae ahí es donde Dios ve que usted verdaderamente está arrepentida, usted quiere cambiar en ese aspecto y cuando uno quiere o cuando uno se esfuerza por evitar y por no hacer esas cosas, entonces si yo tengo esa debilidad de estar ofendiendo a las personas, a la persona que esté cerca de mí, entonces yo procuro ya no volverlo a ser, digo, yo no lo voy a hacer, eso es malo, eso es pecado, es una debilidad que tengo, entonces yo ya me astengo de hacerles, no lo voy a hacer, siento el deseo de ofender, pero no lo hago porque yo quiero que cambiar y agradar a Dios, no quiero estar en paz, quiero sentirme tranquila, reposada, calmada, no quiero ofender al señor, entonces uno se esfuerza y Dios ve esa intención y Dios nos ayuda a cambiar, entonces nosotros porque el asunto es de boca, de boca reconocemos, pero si de corazón no reconocemos de corazón, pues entonces de nada sirve que ahí con palabras, sí, sí, señor, perdóname, señor, perdóname, que hierta al cosa, perdóname, que hier, y hoy despueso mañana volví a golo mismo, y el señor entonces ya no nos va a poner cuidado, ya no nos va a escuchar nuestra oración, y nosotros oramos y sentimos que todo es nulo, que Dios no me oye, no me escucha, porque es, porque no sale del corazón ese repentimiento, ese reconocimiento, y porque en el momento de la tentación, en el momento de la prueba, cuando está ahí, el pecado ahí la tenten en hacerme caer, entonces yo me dejo llevar y lo hago, pero si yo no me dejo llevar y digo no, le pongo un freno, ahí Dios nos va a ayudar.\n"
     ]
    }
   ],
   "source": [
    "outFile = Path(f\"transcript-{makeTimestamp()}.txt\")\n",
    "outFile.write_text(text, encoding=\"utf-8\")\n",
    "print(f\"\\n✅ Transcripción guardada en: {outFile}\")\n",
    "\n",
    "print(\"📄 Texto transcrito:\\n\")\n",
    "print(text)"
   ]
  }
 ],
 "metadata": {
  "kernelspec": {
   "display_name": "env (3.12.4)",
   "language": "python",
   "name": "python3"
  },
  "language_info": {
   "codemirror_mode": {
    "name": "ipython",
    "version": 3
   },
   "file_extension": ".py",
   "mimetype": "text/x-python",
   "name": "python",
   "nbconvert_exporter": "python",
   "pygments_lexer": "ipython3",
   "version": "3.12.4"
  }
 },
 "nbformat": 4,
 "nbformat_minor": 5
}
