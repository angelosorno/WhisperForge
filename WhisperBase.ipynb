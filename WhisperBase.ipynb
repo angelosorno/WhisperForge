{
 "cells": [
  {
   "cell_type": "code",
   "execution_count": null,
   "id": "935e7d27",
   "metadata": {},
   "outputs": [],
   "source": [
    "import whisper\n",
    "model = whisper.load_model(\"base\")"
   ]
  },
  {
   "cell_type": "code",
   "execution_count": null,
   "id": "1e307b03",
   "metadata": {},
   "outputs": [],
   "source": [
    "# model = whisper.load_model(\"turbo\")"
   ]
  },
  {
   "cell_type": "code",
   "execution_count": null,
   "id": "4587abed",
   "metadata": {},
   "outputs": [],
   "source": [
    "ruta = \"./audio.m4a\"\n",
    "result = model.transcribe(ruta)\n",
    "print(result[\"text\"])"
   ]
  },
  {
   "cell_type": "code",
   "execution_count": null,
   "id": "59db8f32",
   "metadata": {},
   "outputs": [],
   "source": [
    "result[\"text\"]"
   ]
  },
  {
   "cell_type": "code",
   "execution_count": null,
   "id": "61747f2e",
   "metadata": {},
   "outputs": [],
   "source": [
    "# Texto a un archivo .txt\n",
    "with open(\"Transcripcion.txt\", \"w\", encoding=\"utf-8\") as f:\n",
    "    f.write(result[\"text\"])"
   ]
  }
 ],
 "metadata": {
  "kernelspec": {
   "display_name": "env (3.12.4)",
   "language": "python",
   "name": "python3"
  },
  "language_info": {
   "codemirror_mode": {
    "name": "ipython",
    "version": 3
   },
   "file_extension": ".py",
   "mimetype": "text/x-python",
   "name": "python",
   "nbconvert_exporter": "python",
   "pygments_lexer": "ipython3",
   "version": "3.12.4"
  }
 },
 "nbformat": 4,
 "nbformat_minor": 5
}
