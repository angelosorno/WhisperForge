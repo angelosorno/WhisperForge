{
 "cells": [
  {
   "cell_type": "code",
   "execution_count": 1,
   "id": "935e7d27",
   "metadata": {},
   "outputs": [],
   "source": [
    "import whisper\n",
    "model = whisper.load_model(\"base\")"
   ]
  },
  {
   "cell_type": "code",
   "execution_count": 2,
   "id": "1e307b03",
   "metadata": {},
   "outputs": [],
   "source": [
    "# model = whisper.load_model(\"turbo\")"
   ]
  },
  {
   "cell_type": "code",
   "execution_count": 3,
   "id": "4587abed",
   "metadata": {},
   "outputs": [
    {
     "name": "stderr",
     "output_type": "stream",
     "text": [
      "/Users/angelosorno/Documents/VSCode/IDMJI/Whisper/env/lib/python3.12/site-packages/whisper/transcribe.py:132: UserWarning: FP16 is not supported on CPU; using FP32 instead\n",
      "  warnings.warn(\"FP16 is not supported on CPU; using FP32 instead\")\n"
     ]
    },
    {
     "ename": "RuntimeError",
     "evalue": "Failed to load audio: ffmpeg version 8.0 Copyright (c) 2000-2025 the FFmpeg developers\n  built with Apple clang version 17.0.0 (clang-1700.0.13.3)\n  configuration: --prefix=/opt/homebrew/Cellar/ffmpeg/8.0_1 --enable-shared --enable-pthreads --enable-version3 --cc=clang --host-cflags= --host-ldflags='-Wl,-ld_classic' --enable-ffplay --enable-gnutls --enable-gpl --enable-libaom --enable-libaribb24 --enable-libbluray --enable-libdav1d --enable-libharfbuzz --enable-libjxl --enable-libmp3lame --enable-libopus --enable-librav1e --enable-librist --enable-librubberband --enable-libsnappy --enable-libsrt --enable-libssh --enable-libsvtav1 --enable-libtesseract --enable-libtheora --enable-libvidstab --enable-libvmaf --enable-libvorbis --enable-libvpx --enable-libwebp --enable-libx264 --enable-libx265 --enable-libxml2 --enable-libxvid --enable-lzma --enable-libfontconfig --enable-libfreetype --enable-frei0r --enable-libass --enable-libopencore-amrnb --enable-libopencore-amrwb --enable-libopenjpeg --enable-libspeex --enable-libsoxr --enable-libzmq --enable-libzimg --disable-libjack --disable-indev=jack --enable-videotoolbox --enable-audiotoolbox --enable-neon\n  libavutil      60.  8.100 / 60.  8.100\n  libavcodec     62. 11.100 / 62. 11.100\n  libavformat    62.  3.100 / 62.  3.100\n  libavdevice    62.  1.100 / 62.  1.100\n  libavfilter    11.  4.100 / 11.  4.100\n  libswscale      9.  1.100 /  9.  1.100\n  libswresample   6.  1.100 /  6.  1.100\n[in#0 @ 0x157e07460] Error opening input: No such file or directory\nError opening input file ./audio.m4a.\nError opening input files: No such file or directory\n",
     "output_type": "error",
     "traceback": [
      "\u001b[31m---------------------------------------------------------------------------\u001b[39m",
      "\u001b[31mCalledProcessError\u001b[39m                        Traceback (most recent call last)",
      "\u001b[36mFile \u001b[39m\u001b[32m~/Documents/VSCode/IDMJI/Whisper/env/lib/python3.12/site-packages/whisper/audio.py:58\u001b[39m, in \u001b[36mload_audio\u001b[39m\u001b[34m(file, sr)\u001b[39m\n\u001b[32m     57\u001b[39m \u001b[38;5;28;01mtry\u001b[39;00m:\n\u001b[32m---> \u001b[39m\u001b[32m58\u001b[39m     out = \u001b[43mrun\u001b[49m\u001b[43m(\u001b[49m\u001b[43mcmd\u001b[49m\u001b[43m,\u001b[49m\u001b[43m \u001b[49m\u001b[43mcapture_output\u001b[49m\u001b[43m=\u001b[49m\u001b[38;5;28;43;01mTrue\u001b[39;49;00m\u001b[43m,\u001b[49m\u001b[43m \u001b[49m\u001b[43mcheck\u001b[49m\u001b[43m=\u001b[49m\u001b[38;5;28;43;01mTrue\u001b[39;49;00m\u001b[43m)\u001b[49m.stdout\n\u001b[32m     59\u001b[39m \u001b[38;5;28;01mexcept\u001b[39;00m CalledProcessError \u001b[38;5;28;01mas\u001b[39;00m e:\n",
      "\u001b[36mFile \u001b[39m\u001b[32m~/.pyenv/versions/3.12.4/lib/python3.12/subprocess.py:571\u001b[39m, in \u001b[36mrun\u001b[39m\u001b[34m(input, capture_output, timeout, check, *popenargs, **kwargs)\u001b[39m\n\u001b[32m    570\u001b[39m     \u001b[38;5;28;01mif\u001b[39;00m check \u001b[38;5;129;01mand\u001b[39;00m retcode:\n\u001b[32m--> \u001b[39m\u001b[32m571\u001b[39m         \u001b[38;5;28;01mraise\u001b[39;00m CalledProcessError(retcode, process.args,\n\u001b[32m    572\u001b[39m                                  output=stdout, stderr=stderr)\n\u001b[32m    573\u001b[39m \u001b[38;5;28;01mreturn\u001b[39;00m CompletedProcess(process.args, retcode, stdout, stderr)\n",
      "\u001b[31mCalledProcessError\u001b[39m: Command '['ffmpeg', '-nostdin', '-threads', '0', '-i', './audio.m4a', '-f', 's16le', '-ac', '1', '-acodec', 'pcm_s16le', '-ar', '16000', '-']' returned non-zero exit status 254.",
      "\nThe above exception was the direct cause of the following exception:\n",
      "\u001b[31mRuntimeError\u001b[39m                              Traceback (most recent call last)",
      "\u001b[36mCell\u001b[39m\u001b[36m \u001b[39m\u001b[32mIn[3]\u001b[39m\u001b[32m, line 2\u001b[39m\n\u001b[32m      1\u001b[39m ruta = \u001b[33m\"\u001b[39m\u001b[33m./audio.m4a\u001b[39m\u001b[33m\"\u001b[39m\n\u001b[32m----> \u001b[39m\u001b[32m2\u001b[39m result = \u001b[43mmodel\u001b[49m\u001b[43m.\u001b[49m\u001b[43mtranscribe\u001b[49m\u001b[43m(\u001b[49m\u001b[43mruta\u001b[49m\u001b[43m)\u001b[49m\n\u001b[32m      3\u001b[39m \u001b[38;5;28mprint\u001b[39m(result[\u001b[33m\"\u001b[39m\u001b[33mtext\u001b[39m\u001b[33m\"\u001b[39m])\n\u001b[32m      4\u001b[39m \u001b[38;5;66;03m# -*- coding: utf-8 -*-\u001b[39;00m\n",
      "\u001b[36mFile \u001b[39m\u001b[32m~/Documents/VSCode/IDMJI/Whisper/env/lib/python3.12/site-packages/whisper/transcribe.py:139\u001b[39m, in \u001b[36mtranscribe\u001b[39m\u001b[34m(model, audio, verbose, temperature, compression_ratio_threshold, logprob_threshold, no_speech_threshold, condition_on_previous_text, initial_prompt, carry_initial_prompt, word_timestamps, prepend_punctuations, append_punctuations, clip_timestamps, hallucination_silence_threshold, **decode_options)\u001b[39m\n\u001b[32m    136\u001b[39m     decode_options[\u001b[33m\"\u001b[39m\u001b[33mfp16\u001b[39m\u001b[33m\"\u001b[39m] = \u001b[38;5;28;01mFalse\u001b[39;00m\n\u001b[32m    138\u001b[39m \u001b[38;5;66;03m# Pad 30-seconds of silence to the input audio, for slicing\u001b[39;00m\n\u001b[32m--> \u001b[39m\u001b[32m139\u001b[39m mel = \u001b[43mlog_mel_spectrogram\u001b[49m\u001b[43m(\u001b[49m\u001b[43maudio\u001b[49m\u001b[43m,\u001b[49m\u001b[43m \u001b[49m\u001b[43mmodel\u001b[49m\u001b[43m.\u001b[49m\u001b[43mdims\u001b[49m\u001b[43m.\u001b[49m\u001b[43mn_mels\u001b[49m\u001b[43m,\u001b[49m\u001b[43m \u001b[49m\u001b[43mpadding\u001b[49m\u001b[43m=\u001b[49m\u001b[43mN_SAMPLES\u001b[49m\u001b[43m)\u001b[49m\n\u001b[32m    140\u001b[39m content_frames = mel.shape[-\u001b[32m1\u001b[39m] - N_FRAMES\n\u001b[32m    141\u001b[39m content_duration = \u001b[38;5;28mfloat\u001b[39m(content_frames * HOP_LENGTH / SAMPLE_RATE)\n",
      "\u001b[36mFile \u001b[39m\u001b[32m~/Documents/VSCode/IDMJI/Whisper/env/lib/python3.12/site-packages/whisper/audio.py:140\u001b[39m, in \u001b[36mlog_mel_spectrogram\u001b[39m\u001b[34m(audio, n_mels, padding, device)\u001b[39m\n\u001b[32m    138\u001b[39m \u001b[38;5;28;01mif\u001b[39;00m \u001b[38;5;129;01mnot\u001b[39;00m torch.is_tensor(audio):\n\u001b[32m    139\u001b[39m     \u001b[38;5;28;01mif\u001b[39;00m \u001b[38;5;28misinstance\u001b[39m(audio, \u001b[38;5;28mstr\u001b[39m):\n\u001b[32m--> \u001b[39m\u001b[32m140\u001b[39m         audio = \u001b[43mload_audio\u001b[49m\u001b[43m(\u001b[49m\u001b[43maudio\u001b[49m\u001b[43m)\u001b[49m\n\u001b[32m    141\u001b[39m     audio = torch.from_numpy(audio)\n\u001b[32m    143\u001b[39m \u001b[38;5;28;01mif\u001b[39;00m device \u001b[38;5;129;01mis\u001b[39;00m \u001b[38;5;129;01mnot\u001b[39;00m \u001b[38;5;28;01mNone\u001b[39;00m:\n",
      "\u001b[36mFile \u001b[39m\u001b[32m~/Documents/VSCode/IDMJI/Whisper/env/lib/python3.12/site-packages/whisper/audio.py:60\u001b[39m, in \u001b[36mload_audio\u001b[39m\u001b[34m(file, sr)\u001b[39m\n\u001b[32m     58\u001b[39m     out = run(cmd, capture_output=\u001b[38;5;28;01mTrue\u001b[39;00m, check=\u001b[38;5;28;01mTrue\u001b[39;00m).stdout\n\u001b[32m     59\u001b[39m \u001b[38;5;28;01mexcept\u001b[39;00m CalledProcessError \u001b[38;5;28;01mas\u001b[39;00m e:\n\u001b[32m---> \u001b[39m\u001b[32m60\u001b[39m     \u001b[38;5;28;01mraise\u001b[39;00m \u001b[38;5;167;01mRuntimeError\u001b[39;00m(\u001b[33mf\u001b[39m\u001b[33m\"\u001b[39m\u001b[33mFailed to load audio: \u001b[39m\u001b[38;5;132;01m{\u001b[39;00me.stderr.decode()\u001b[38;5;132;01m}\u001b[39;00m\u001b[33m\"\u001b[39m) \u001b[38;5;28;01mfrom\u001b[39;00m\u001b[38;5;250m \u001b[39m\u001b[34;01me\u001b[39;00m\n\u001b[32m     62\u001b[39m \u001b[38;5;28;01mreturn\u001b[39;00m np.frombuffer(out, np.int16).flatten().astype(np.float32) / \u001b[32m32768.0\u001b[39m\n",
      "\u001b[31mRuntimeError\u001b[39m: Failed to load audio: ffmpeg version 8.0 Copyright (c) 2000-2025 the FFmpeg developers\n  built with Apple clang version 17.0.0 (clang-1700.0.13.3)\n  configuration: --prefix=/opt/homebrew/Cellar/ffmpeg/8.0_1 --enable-shared --enable-pthreads --enable-version3 --cc=clang --host-cflags= --host-ldflags='-Wl,-ld_classic' --enable-ffplay --enable-gnutls --enable-gpl --enable-libaom --enable-libaribb24 --enable-libbluray --enable-libdav1d --enable-libharfbuzz --enable-libjxl --enable-libmp3lame --enable-libopus --enable-librav1e --enable-librist --enable-librubberband --enable-libsnappy --enable-libsrt --enable-libssh --enable-libsvtav1 --enable-libtesseract --enable-libtheora --enable-libvidstab --enable-libvmaf --enable-libvorbis --enable-libvpx --enable-libwebp --enable-libx264 --enable-libx265 --enable-libxml2 --enable-libxvid --enable-lzma --enable-libfontconfig --enable-libfreetype --enable-frei0r --enable-libass --enable-libopencore-amrnb --enable-libopencore-amrwb --enable-libopenjpeg --enable-libspeex --enable-libsoxr --enable-libzmq --enable-libzimg --disable-libjack --disable-indev=jack --enable-videotoolbox --enable-audiotoolbox --enable-neon\n  libavutil      60.  8.100 / 60.  8.100\n  libavcodec     62. 11.100 / 62. 11.100\n  libavformat    62.  3.100 / 62.  3.100\n  libavdevice    62.  1.100 / 62.  1.100\n  libavfilter    11.  4.100 / 11.  4.100\n  libswscale      9.  1.100 /  9.  1.100\n  libswresample   6.  1.100 /  6.  1.100\n[in#0 @ 0x157e07460] Error opening input: No such file or directory\nError opening input file ./audio.m4a.\nError opening input files: No such file or directory\n"
     ]
    }
   ],
   "source": [
    "ruta = \"./audio.m4a\"\n",
    "result = model.transcribe(ruta)\n",
    "print(result[\"text\"])\n",
    "# -*- coding: utf-8 -*-"
   ]
  },
  {
   "cell_type": "code",
   "execution_count": null,
   "id": "59db8f32",
   "metadata": {},
   "outputs": [
    {
     "data": {
      "text/plain": [
       "' en la carne, ¿qué significa vivir en la carne? en el pecado, muy bien, ¿cuáles son los pecados? la Biblia nos enseña, borrachera, fornicación, adulterio, chismes, celos, iras, contiendas, desleales, mentirosos, groseros, orgullosos, todo eso y muchos más, para ello hay que leer la Biblia, ahí no se enumera, usted bien lo sabe, mire todo lo que el mundo ofrece, mire todo lo que el mundo les da, pero si quiere ser de Dios tiene que pensar diferente, por eso Dios dice para no vivir el tiempo que resta la carne conforme a las concupiscencias de quienes, de los hombres, la humanidad anda gobernada por el diablo y recuerde que con solo respirar se mete el diablo y el diablo siempre incitará a su mente, a su corazón a llevarle la contraria a Dios, a que usted imite lo que hacen los demás, para que usted no sea de Dios, y bien dice acá, Dios nos da un consejo, dice sino conforme ya, dice que ya no, ya el resto que queda para no vivir en la carne y en las concupiscencias de los hombres, sino conforme a que, a la voluntad de Dios, hay que vivir ya conforme a la voluntad de Dios, pero como se la voluntad de Dios, si no me habla, si no me guía, si yo no leo la Biblia, si yo no dispongo mi corazón, no voy a conocer esa voluntad de Dios, por eso es bueno hermanos, que abramos nuestros corazones, nuestra mente, que cuesta entender lo de Dios, si cuando uno es orgulloso, que la gloria y la honra sea para quien, si cuando uno es orgulloso, cuando uno es rebelde, cuando uno quiere manejar las cosas a su acomodo, va a costarle mucho hermanos, pero cuando nuestro interés es simplemente vivir por lo de Dios, es querer agradar a Dios, va a ser muy fácil hermanos, porque Dios nos va a ayudar en todo, y Dios nos va a prosperar en todo, y Dios nos va a abrir siempre un camino, siempre nos va a dar una salida, por más difícil que usted vea, su vida, porque tiene fracasos materiales, sentimentales, o espirituales, porque usted viene, como que no recibe nada, antes muchos, en estos días, aquí en la iglesia del barrio de la calle 80, una hermana me decía, hermano pero que pasa, vengo aquí y tengo problemas económicos, vengo aquí y resulte con cáncer, y mi respuesta fue, y usted cree que que no le iba a pasar todo eso, usted se imagina, usted sin Dios y viviendo con cáncer, viviendo esos problemas económicos, que la sigue la justicia, que sería de usted, hermano, me dijo ella, estaría loca, le dije bien lo ha dicho, pero no hay que con Dios, este Dios que es bueno, este Dios que dice, que si usted vive conforme a la voluntad de Dios, Dios nos da esperanzas, porque queremos siempre culpar a alguien, y cuando nos pasan cosas, eso es por venir a la iglesia, no, eso no iba a vivir usted, ya Dios lo sabía, pero por eso Dios nos dice el más allá, por eso nos anuncia bendiciones, pero para ello hay que tener convicción, hay que ser de Dios, hay que sentir lo de Dios, y no tomar como un juego venir acá, no tomar la palabra de Dios como un pasatiempo, sino tomarla con el respeto que merece Dios, y sentir a Dios, y ser de Dios, pero para ello tenemos que deleitarnos conforme a la voluntad de Dios, y esforzarnos por amarlo, por seguirlo, por valorarlo a él, y entregarnos con la mente y el corazón para él, pero para ello hay que tener bien claro en nuestra mente que queremos, que esperamos, porque muchos tienen afán por su vida material, por su vida sentimental, pero se olvidan de la vida espiritual, y por algo a Dios ha permitido en estos tiempos, su palabra, su evangelio, para que usted tenga una esperanza, el mundo está perdido, pero a ustedes, Dios quiere poseerlos, Dios quiere darle una esperanza de vida, de lucha, porque con Dios si se puede, pero para ello, viva, siéntalo de Dios, valore cada minuto, cada instante, cada oportunidad de vida que Dios nos está dando, porque solamente, a veces cuando tenemos dificultades, problemas, nos acordamos de él, pero cuando estamos allá, afuera, queremos igualarnos a todo el mundo, ser como los demás, y nuestros héroes, son esos de afuera, porque roban, matan, llenos de orgullo, de vanidad, vanidad, en vez de imitar a Cristo, en vez de ser verdaderos cristianos, eso, imite lo bueno, imite a Dios, eso solamente lo piensan los hijos de Dios, los que quieren verdaderamente agarrar a Dios, pero muchos se deleitan, que porque tienen esto o aquello, acaso todo eso no se acaba, acaso todo no es vanidad de vanidades, acaso todo eso no es efímero, pero porque hijos, porque si afán por lo material, en vez de seguir a este Dios que vive, en vez de poseer a Dios en su corazón, el mayor tesoro que un hombre y una mujer puede poseer, que Dios viva en cada uno de nosotros, que Dios viva en nuestros corazones, por eso dice el verso 3, basta ya, basta ya, basta ya, basta ya, ese sería el título de la enseñanza de hoy, basta ya, el vivir en la carne, hay que hacer la voluntad de Dios, hay que ser de Dios, hay que tener la mente de Cristo, hay que ser verdaderos cristianos, por eso basta ya, vivir en la carne, y vivamos bien conforme a la voluntad de Dios, porque ese es el título de la enseñanza de hoy, basta ya, usted es capaz, si se puede, sin el diablo, no me gobierne más, fuera de mí, tú estás con convicencia, fuera de mí, el querer imitar a los hombres, basta ya, quiero hacer la voluntad de Dios, y por eso te busco Señor, por eso saco tiempo, para venir a tus atrios, a buscar, a llenarme de ti Señor, porque quiero ser un hijo de Dios, porque quiero que Dios me posea, porque quiero alcanzar la vida eterna, pero en este mundo, mientras que Dios nos dé la oportunidad, poderle servir, hablar de Él, y glorificar su nombre, por eso basta ya, para dejar de vivir en la carne, y vivamos conforme a la voluntad de Dios, que si se puede, si se puede ser de Dios, si se puede agarrar a Dios, pero para ello, pidámosle cordura a Dios, pidámosle que entre a nuestra mente, a nuestros corazones, pero hay que abrirle esa puerta, hay que dejársela de par en par, para que Él posea nuestra mente, nuestro cuerpo, y toda nuestra manera de vivir, que los afanes de la vida, no nos distraigan, de seguirlo a Él, que toca trabajar, claro que sí, que toca estudiar, claro que sí, pero siempre, pensemos, cómo agarrar a Dios, cómo ser de Dios, y dice la Biblia, basta ya, el tiempo pasado, para haber hecho lo que le agrada a los gentiles, y cómo andan los gentiles, dice que andando en sus lascivias, mire hoy, hoy en día, esa depredación que hay, de niños, de los niños, cómo les enseñan, nunca les enseñan, a tener virtudes, sino antes les enseñan a usar preservativos, a que descubran, los placeres de su cuerpo, en vez de enseñar virtudes, porque la humanidad está corrompida, porque la humanidad anda en sus concupiscencias, pero nosotros tenemos que ser diferentes, por eso olvide su pasado, a los que son niños, si llegaron niños, aquí en la iglesia, qué bendición, a los que ya llegamos creciditos, basta ya, ese tiempo pasado, olvide lo que hacía, ahora, reproduzca ese hombre nuevo, haciendo la voluntad de Dios, entonces dice que, antiguamente, que hacían en lascivia, en sus concupiscencias, dándole rienda suelta a su carne, en sus pecados, dice aquí, en embriaguez, en orgía, disipación, y abominables idolatrías, cuantos de nosotros, no éramos así, pero a medida que Dios, empezó a guiarnos, a medida que Dios, fue entrando a nuestro ser, todo fue cambiando, y Dios va transformando, la mente, el corazón, y por eso van cambiando, las prioridades, que Dios es bueno, claro que sí, que Dios nos bendice, en lo material, claro que sí, en lo sentimental, en todo, Dios lo hace, Dios lo da, porque Dios quiere también, cosas buenas, para sus hijos, pero ya uno lo vive, de otra manera, ya nuestra prioridad, no es tener dos, tres carros, si Dios quiere, no habló la gloria a Dios, ya la prioridad, es tener poder de Dios, ya la prioridad, es querer hablar a Dios, ya lo que uno anhela, es que Dios, hace un milagro, Dios sana, Dios quita de la tristeza, a esa persona, como hago, para quitarle, conquistarle, la tristeza, a esa persona, como hago, para que Dios, para que Dios, para que Dios, sana de cáncer, a alguien, porque nos conduele, el dolor ajeno, porque ya, Dios nos ha ido, cambiando, transformando, que por añadidura, Dios nos va a dar, muchas cosas materiales, bendito el nombre de Dios, eso como será, de acuerdo, a la voluntad de Dios, a otro, los pondrá a viajar, a otro, le dirá, que los llevará al exterior, todo eso, viene por añadidura, pero lo importante, de cada uno de ustedes, de cada uno de nosotros, es predicar su evangelio, y predicar no es solamente aquí, es allá en su trabajo, es allá donde usted estudia, es allá donde usted vive, cuando le digan, ¿por qué estar especial? porque usted diga, porque soy de Dios, dice, a estos, o sea, a los gentiles, les parece cosa extraña, que vosotros, no corráis con ellos, en los mismos desenfreno, de disolución, y os ultrajan, y será que eso es cierto, claro que sí, ¿cómo así, que hoy domingo, en vez de estar borrachándose, consumiendo drogas, corre allá al culto, de cinco de la tarde, pero qué le pasa, se volvió loco, ¿cómo así, que dejó al amante? ¿cómo así, que dejó de robar, de matar, pero qué le pasó, le labraban el cerebro, sí, conocí a Dios, y Dios le labra en el cerebro, porque Dios nos enseña, el verdadero vivir, de un ser humano, por eso Dios nos enseña, a tener dignidad, a tener honor, para que con el tiempo, nos diga, hijo, hija, te amo, tú eres mío, tú me perteneces, y cuando uno quiere, llevarle la contraria a Dios, va a recibir látigo, Dios se encargará, de encaminarlo, y usted en su libre adventrío, decidirá, si sí, si no, si sí quiere ser de Dios, o no quiere ser de Dios, si usted es capaz de decirle, basta ya, a su carne, y quiere hacer la voluntad de Dios, o quiere correr, desenfrenadamente, detrás del mundo, para que no los ultraje, para que no le digan nada, qué lindo, cuando, cuando uno de ustedes, se para en su puesto, y dan ese buen testimonio, cuando la gente le pregunta, pero por qué usted es así, por qué tiene esos principios, y ahí Dios saca ese orgullo, ese honor, porque soy un hijo de Dios, porque Dios me habla, ay, pero eso no existe, eso no es realidad, claro, si usted no ha tenido esa oportunidad, lo siento mucho, pero yo, cada uno de nosotros, que somos guiados, por este Dios que vive, podemos denunciar, podemos hablar, denunciar, hablar, cuando usted habla, que Dios vive, que Dios existe, que Dios ha tomado las riendas, de su vida, ahí está predicando, y con su manera de vivir, con su manera de actuar, de vestir, usted tiene que ser un ejemplo, para los demás, y ahí predicamos la palabra del Señor, ahí decimos, basta ya, ya no vivimos en la carne, ya vivimos conforme a la voluntad de Dios, porque sabemos que Dios vive, que Dios existe, y que Dios es lo mejor, que nos puede pasar, acá ahora en nosotros, verso 16, mire lo que dice, pero si alguno padece, como cristiano, no se avergüence, ay, que usted se quedó sin empleo, y va a la iglesia de Dios, y que Dios le habla, ah, que puedo hacer, Dios me abrirá puerta, Dios no me dejará morir de hambre, porque Dios es bueno, que resultó con cáncer, o con cualquier enfermedad, que podemos hacer, somos cuerpo, finalmente lo que Dios quiere, que tenga sano usted, es que, el alma, que será que alguno a nosotros, puede dar cáncer, o cualquier tipo de enfermedad, claro que sí, son cuerpos, pero lo que tiene que estar sano, es el alma, y Dios vino fue por su alma, no por su cuerpo, por eso Dios quiere, que usted, aquí, él viva, y usted iba conforme, a la voluntad de Dios, deleitándose, sintiéndose orgulloso, feliz, porque le dijo, basta ya al diablo, porque le dijo, basta ya, a sus concupiscencias, y placeres, y que si, tiene que padecer, pues padecemos, pero siempre firmes, siempre con la esperanza, bien decía el apóstol Pablo, no sé que será mejor, si morir, o vivir, porque si muero, voy con Dios, pero por causa del evangelio, tengo que vivir un tiempo más, para seguir predicando, pero lo que tú digas Señor, tu voluntad, será agradable, y perfecta, amén hermanos, por eso bien dice acá, pero si alguno padece, como cristiano, no se avergüence, sino que más bien que, glorifique a Dios por ello, y Dios le dice, gracias Dios, si estoy padeciendo, por causas económicas, por enfermedades, porque mi hogar, lo que sea, gracias Dios, porque de aquí, sacaré alguna enseñanza, o tal vez estás probando mi fe, o tal vez estás esperando, que espera más de mi Señor, que espera Dios, si te he dado mi mente, mi cuerpo para ti, que espera Dios más de mí, que me haya falta, padecido más en la carne, que Dios tenga misericordia en nosotros, amén hermanos, puesto de pie, más en la carne, que manera en la carne, por eso, bendecirás para los combas,odenfe, que espera Dioscej, en la carne, disminuir y se puede carjar, jo, ent Association, que es la carne, conoce hasta el Eliz everyday, y a intervención,'"
      ]
     },
     "execution_count": 31,
     "metadata": {},
     "output_type": "execute_result"
    }
   ],
   "source": [
    "result[\"text\"]\n"
   ]
  },
  {
   "cell_type": "code",
   "execution_count": null,
   "id": "61747f2e",
   "metadata": {},
   "outputs": [],
   "source": [
    "\n",
    "# exportar texto a un archivo .txt\n",
    "with open(\"Transcripcion.txt\", \"w\", encoding=\"utf-8\") as f:\n",
    "    f.write(result[\"text\"])"
   ]
  },
  {
   "cell_type": "code",
   "execution_count": null,
   "id": "b909e8bf",
   "metadata": {},
   "outputs": [],
   "source": []
  }
 ],
 "metadata": {
  "kernelspec": {
   "display_name": "env (3.12.4)",
   "language": "python",
   "name": "python3"
  },
  "language_info": {
   "codemirror_mode": {
    "name": "ipython",
    "version": 3
   },
   "file_extension": ".py",
   "mimetype": "text/x-python",
   "name": "python",
   "nbconvert_exporter": "python",
   "pygments_lexer": "ipython3",
   "version": "3.12.4"
  }
 },
 "nbformat": 4,
 "nbformat_minor": 5
}
