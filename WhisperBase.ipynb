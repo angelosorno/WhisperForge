{
 "cells": [
  {
   "cell_type": "code",
   "execution_count": null,
   "id": "935e7d27",
   "metadata": {},
   "outputs": [],
   "source": [
    "import whisper\n",
    "import subprocess\n",
    "from pathlib import Path\n",
    "model = whisper.load_model(\"base\")"
   ]
  },
  {
   "cell_type": "code",
   "execution_count": null,
   "id": "1e307b03",
   "metadata": {},
   "outputs": [],
   "source": [
    "# model = whisper.load_model(\"turbo\")"
   ]
  },
  {
   "cell_type": "code",
   "execution_count": null,
   "id": "4587abed",
   "metadata": {},
   "outputs": [],
   "source": [
    "def toWav16k(inPath: Path, outPath: Path) -> Path:\n",
    "    \"\"\"\n",
    "    Convierte cualquier entrada (audio o video) a WAV PCM 16 kHz mono.\n",
    "    -vn fuerza a ignorar video; aresample=soxr mejora la calidad del remuestreo.\n",
    "    \"\"\"\n",
    "    cmd = [\n",
    "        \"ffmpeg\", \"-y\", \"-i\", str(inPath),\n",
    "        \"-vn\",\n",
    "        \"-ac\", \"1\",\n",
    "        \"-af\", \"aresample=resampler=soxr:precision=33\",\n",
    "        \"-ar\", \"16000\",\n",
    "        \"-c:a\", \"pcm_s16le\",\n",
    "        str(outPath)\n",
    "    ]\n",
    "    subprocess.run(cmd, check=True, stdout=subprocess.PIPE, stderr=subprocess.PIPE)\n",
    "    return outPath\n",
    "\n",
    "def prepareAudioForWhisper(srcPath: Path, enabled: bool = True) -> Path:\n",
    "    \"\"\"\n",
    "    Si enabled=True → genera 'input.16k.wav' y lo devuelve.\n",
    "    Si enabled=False → devuelve el path original sin tocar.\n",
    "    \"\"\"\n",
    "    if not enabled:\n",
    "        return srcPath\n",
    "    target = srcPath.parent / \"input.16k.wav\"\n",
    "    return toWav16k(srcPath, target)\n",
    "\n",
    "# --- Uso sencillo ---\n",
    "model = whisper.load_model(\"base\")\n",
    "\n",
    "audioPath = Path(\"./audio.mp3\")\n",
    "normalizedPath = prepareAudioForWhisper(audioPath, enabled=True)\n",
    "\n",
    "result = model.transcribe(str(normalizedPath))\n",
    "print(result[\"text\"])"
   ]
  },
  {
   "cell_type": "code",
   "execution_count": null,
   "id": "59db8f32",
   "metadata": {},
   "outputs": [],
   "source": [
    "result[\"text\"]"
   ]
  }
 ],
 "metadata": {
  "kernelspec": {
   "display_name": "env (3.12.4)",
   "language": "python",
   "name": "python3"
  },
  "language_info": {
   "codemirror_mode": {
    "name": "ipython",
    "version": 3
   },
   "file_extension": ".py",
   "mimetype": "text/x-python",
   "name": "python",
   "nbconvert_exporter": "python",
   "pygments_lexer": "ipython3",
   "version": "3.12.4"
  }
 },
 "nbformat": 4,
 "nbformat_minor": 5
}
